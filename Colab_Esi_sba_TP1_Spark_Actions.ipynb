{
  "cells": [
    {
      "cell_type": "markdown",
      "metadata": {
        "id": "tLG4gfpAxrnu"
      },
      "source": [
        "## Installation de spark-cluster & findspark, pyspark "
      ]
    },
    {
      "cell_type": "code",
      "execution_count": 7,
      "metadata": {
        "colab": {
          "base_uri": "https://localhost:8080/"
        },
        "id": "n2CXC6K-xnH_",
        "outputId": "5baa9d11-6244-446d-d042-32e4c06da902"
      },
      "outputs": [
        {
          "output_type": "stream",
          "name": "stdout",
          "text": [
            "Looking in indexes: https://pypi.org/simple, https://us-python.pkg.dev/colab-wheels/public/simple/\n",
            "Requirement already satisfied: pyspark in /usr/local/lib/python3.7/dist-packages (3.3.0)\n",
            "Requirement already satisfied: py4j==0.10.9.5 in /usr/local/lib/python3.7/dist-packages (from pyspark) (0.10.9.5)\n"
          ]
        }
      ],
      "source": [
        "# innstall java\n",
        "!apt-get install openjdk-8-jdk-headless -qq > /dev/null\n",
        "\n",
        "# install spark (change the version number if needed)\n",
        "!wget -q http://archive.apache.org/dist/spark/spark-3.1.1/spark-3.1.1-bin-hadoop3.2.tgz\n",
        "\n",
        "# unzip the spark file to the current folder\n",
        "!tar xf spark-3.1.1-bin-hadoop3.2.tgz\n",
        "\n",
        "# set your spark folder to your system path environment. \n",
        "import os\n",
        "os.environ[\"JAVA_HOME\"] = \"/usr/lib/jvm/java-8-openjdk-amd64\"\n",
        "os.environ[\"SPARK_HOME\"] = \"/content/spark-3.1.1-bin-hadoop3.2\"\n",
        "\n",
        "\n",
        "# install findspark using pip\n",
        "!pip install -q findspark\n",
        "\n",
        "# install pyspark\n",
        "!pip install pyspark"
      ]
    },
    {
      "cell_type": "markdown",
      "metadata": {
        "id": "sts7hACDxigI"
      },
      "source": [
        "# importation et initialisation de Spark"
      ]
    },
    {
      "cell_type": "code",
      "execution_count": 8,
      "metadata": {
        "id": "4yIeBWYgxigN"
      },
      "outputs": [],
      "source": [
        "import findspark \n",
        "findspark.init()"
      ]
    },
    {
      "cell_type": "markdown",
      "metadata": {
        "id": "3gaTjstFxigP"
      },
      "source": [
        "## importer PySpark et initialiser SparkContext"
      ]
    },
    {
      "cell_type": "code",
      "execution_count": 9,
      "metadata": {
        "id": "b7GXU4b1xigQ"
      },
      "outputs": [],
      "source": [
        "from pyspark import SparkContext, SparkConf\n",
        "conf = SparkConf().setAppName(\"actions\").setMaster(\"local[*]\")\n",
        "sc = SparkContext(conf = conf)"
      ]
    },
    {
      "cell_type": "markdown",
      "metadata": {
        "id": "EoFmGzQQxigQ"
      },
      "source": [
        "## Afficher la configuration du cluster Spark"
      ]
    },
    {
      "cell_type": "code",
      "execution_count": 10,
      "metadata": {
        "colab": {
          "base_uri": "https://localhost:8080/"
        },
        "id": "ihUTOmh7xigR",
        "outputId": "5df2f15a-35a7-4b44-ef86-6aa195d09b8b"
      },
      "outputs": [
        {
          "output_type": "execute_result",
          "data": {
            "text/plain": [
              "[('spark.app.id', 'local-1666644392577'),\n",
              " ('spark.rdd.compress', 'True'),\n",
              " ('spark.driver.port', '36041'),\n",
              " ('spark.serializer.objectStreamReset', '100'),\n",
              " ('spark.app.startTime', '1666644390790'),\n",
              " ('spark.app.name', 'actions'),\n",
              " ('spark.master', 'local[*]'),\n",
              " ('spark.submit.pyFiles', ''),\n",
              " ('spark.executor.id', 'driver'),\n",
              " ('spark.submit.deployMode', 'client'),\n",
              " ('spark.ui.showConsoleProgress', 'true'),\n",
              " ('spark.driver.host', 'f56d880599d2')]"
            ]
          },
          "metadata": {},
          "execution_count": 10
        }
      ],
      "source": [
        "sc.getConf().getAll()"
      ]
    },
    {
      "cell_type": "markdown",
      "metadata": {
        "id": "m3izdukAxigS"
      },
      "source": [
        "## Créer un simple RDD"
      ]
    },
    {
      "cell_type": "code",
      "execution_count": 11,
      "metadata": {
        "colab": {
          "base_uri": "https://localhost:8080/"
        },
        "id": "3T4tIJH0xigS",
        "outputId": "2efb8d9a-4b75-4e19-c66d-56daf8d387cb"
      },
      "outputs": [
        {
          "output_type": "execute_result",
          "data": {
            "text/plain": [
              "pyspark.rdd.RDD"
            ]
          },
          "metadata": {},
          "execution_count": 11
        }
      ],
      "source": [
        "inputWords = [\"esi\", \"esi-sba\", \"big-data\", \"python\", \"spark\", \"esi-sba\", \"spark\",\"esi-sba\"]\n",
        "wordRdd = sc.parallelize(inputWords)\n",
        "\n",
        "type(wordRdd)"
      ]
    },
    {
      "cell_type": "markdown",
      "metadata": {
        "id": "N1h1yhi7xigT"
      },
      "source": [
        "## Application de l'Action Collect() sur wordRdd"
      ]
    },
    {
      "cell_type": "code",
      "execution_count": 12,
      "metadata": {
        "colab": {
          "base_uri": "https://localhost:8080/"
        },
        "id": "uuqpDwq8xigU",
        "outputId": "7f764604-ee09-4596-a74a-44012dd8833c"
      },
      "outputs": [
        {
          "output_type": "execute_result",
          "data": {
            "text/plain": [
              "['esi',\n",
              " 'esi-sba',\n",
              " 'big-data',\n",
              " 'python',\n",
              " 'spark',\n",
              " 'esi-sba',\n",
              " 'spark',\n",
              " 'esi-sba']"
            ]
          },
          "metadata": {},
          "execution_count": 12
        }
      ],
      "source": [
        "inputWords = [\"esi\", \"esi-sba\", \"big-data\", \"python\", \"spark\", \n",
        "              \"esi-sba\", \"spark\",\"esi-sba\"]\n",
        "wordRdd = sc.parallelize(inputWords)\n",
        "\n",
        "wordRdd.collect()"
      ]
    },
    {
      "cell_type": "markdown",
      "metadata": {
        "id": "7vIQfvA1xigV"
      },
      "source": [
        "## Application de l'Action count() sur wordRdd"
      ]
    },
    {
      "cell_type": "code",
      "execution_count": 13,
      "metadata": {
        "colab": {
          "base_uri": "https://localhost:8080/"
        },
        "id": "uMi14uiXxigV",
        "outputId": "e0adb04b-098a-430f-ba2f-5d4a8e25e075"
      },
      "outputs": [
        {
          "output_type": "execute_result",
          "data": {
            "text/plain": [
              "8"
            ]
          },
          "metadata": {},
          "execution_count": 13
        }
      ],
      "source": [
        "wordRdd.count()"
      ]
    },
    {
      "cell_type": "markdown",
      "metadata": {
        "id": "6YYeQszCxigV"
      },
      "source": [
        "## Application de l'Action countByValue() sur wordRdd"
      ]
    },
    {
      "cell_type": "code",
      "execution_count": 15,
      "metadata": {
        "colab": {
          "base_uri": "https://localhost:8080/"
        },
        "id": "Vdfb6zdixigW",
        "outputId": "b408f9d3-884f-4fac-8541-770754bbd8f9",
        "scrolled": true
      },
      "outputs": [
        {
          "output_type": "execute_result",
          "data": {
            "text/plain": [
              "defaultdict(int,\n",
              "            {'esi': 1, 'esi-sba': 3, 'big-data': 1, 'python': 1, 'spark': 2})"
            ]
          },
          "metadata": {},
          "execution_count": 15
        }
      ],
      "source": [
        "wordRdd.countByValue ()"
      ]
    },
    {
      "cell_type": "markdown",
      "metadata": {
        "id": "obVB1-XKxigW"
      },
      "source": [
        "## Application de l'Action Take() sur wordRdd"
      ]
    },
    {
      "cell_type": "code",
      "execution_count": 16,
      "metadata": {
        "colab": {
          "base_uri": "https://localhost:8080/"
        },
        "id": "yjhsmL6_xigW",
        "outputId": "b05f2135-ac56-4de1-afd9-d595a7e50847"
      },
      "outputs": [
        {
          "output_type": "execute_result",
          "data": {
            "text/plain": [
              "['esi', 'esi-sba', 'big-data']"
            ]
          },
          "metadata": {},
          "execution_count": 16
        }
      ],
      "source": [
        "wordRdd.take(3)"
      ]
    },
    {
      "cell_type": "markdown",
      "metadata": {
        "id": "04Kr5AaKxigW"
      },
      "source": [
        "## Application de l'Action reduce()"
      ]
    },
    {
      "cell_type": "code",
      "execution_count": 17,
      "metadata": {
        "colab": {
          "base_uri": "https://localhost:8080/"
        },
        "id": "SyB4mClSxigX",
        "outputId": "94c18098-f954-4384-a049-c865a6eab09e"
      },
      "outputs": [
        {
          "output_type": "stream",
          "name": "stdout",
          "text": [
            "30\n",
            "5020.25\n"
          ]
        }
      ],
      "source": [
        "numRdd= sc.parallelize([5,5,4,3,2,9,2])\n",
        "\n",
        "print(numRdd.reduce(lambda a,b: a+b))\n",
        "\n",
        "\n",
        "def myfun(a,b):\n",
        "    return a*9 + b/2\n",
        "\n",
        "print(numRdd.reduce(myfun))\n"
      ]
    },
    {
      "cell_type": "markdown",
      "metadata": {
        "id": "FtSQvPTexigX"
      },
      "source": [
        "## Application de l'Action saveAsTextFile ()"
      ]
    },
    {
      "cell_type": "code",
      "execution_count": 18,
      "metadata": {
        "id": "M4o6h1iIxigX"
      },
      "outputs": [],
      "source": [
        "wordRdd.saveAsTextFile('word_txt')\n"
      ]
    },
    {
      "cell_type": "code",
      "execution_count": 19,
      "metadata": {
        "id": "JdzwjnKwxigY"
      },
      "outputs": [],
      "source": [
        "wordRdd.coalesce(1).saveAsTextFile('word_txt2')"
      ]
    },
    {
      "cell_type": "markdown",
      "metadata": {
        "id": "YmckKJtbxigY"
      },
      "source": [
        "## Excercice "
      ]
    },
    {
      "cell_type": "code",
      "execution_count": 20,
      "metadata": {
        "colab": {
          "base_uri": "https://localhost:8080/"
        },
        "id": "2M78jKEJxigY",
        "outputId": "7178d5c8-ccae-4852-c97e-280bf942e878"
      },
      "outputs": [
        {
          "output_type": "stream",
          "name": "stdout",
          "text": [
            "2.341020866017947e+47\n"
          ]
        }
      ],
      "source": [
        "numRdd= sc.parallelize(list(range(1,99)))\n",
        "print(numRdd.reduce(myfun))"
      ]
    },
    {
      "cell_type": "code",
      "execution_count": 21,
      "metadata": {
        "colab": {
          "base_uri": "https://localhost:8080/"
        },
        "id": "djMeca-SxbSa",
        "outputId": "6533c32a-262c-41c4-d2c3-de37d61a536d"
      },
      "outputs": [
        {
          "output_type": "execute_result",
          "data": {
            "text/plain": [
              "ParallelCollectionRDD[1] at readRDDFromFile at PythonRDD.scala:274"
            ]
          },
          "metadata": {},
          "execution_count": 21
        }
      ],
      "source": [
        "wordRdd.cache()"
      ]
    },
    {
      "cell_type": "code",
      "execution_count": 22,
      "metadata": {
        "colab": {
          "base_uri": "https://localhost:8080/"
        },
        "id": "nKLrX6Q4xigY",
        "outputId": "a9babfbe-6869-4733-9a96-426f5c7bb881"
      },
      "outputs": [
        {
          "output_type": "execute_result",
          "data": {
            "text/plain": [
              "8"
            ]
          },
          "metadata": {},
          "execution_count": 22
        }
      ],
      "source": [
        "wordRdd.count()"
      ]
    },
    {
      "cell_type": "code",
      "execution_count": 23,
      "metadata": {
        "colab": {
          "base_uri": "https://localhost:8080/"
        },
        "id": "IwHFJucRxhHF",
        "outputId": "fa649537-f441-4e55-d25d-415ff16717e7"
      },
      "outputs": [
        {
          "output_type": "execute_result",
          "data": {
            "text/plain": [
              "[['esi', 'esi-sba', 'big-data', 'python'],\n",
              " ['spark', 'esi-sba', 'spark', 'esi-sba']]"
            ]
          },
          "metadata": {},
          "execution_count": 23
        }
      ],
      "source": [
        "wordRdd.glom().collect()"
      ]
    }
  ],
  "metadata": {
    "colab": {
      "collapsed_sections": [],
      "provenance": []
    },
    "kernelspec": {
      "display_name": "Python 3 (ipykernel)",
      "language": "python",
      "name": "python3"
    },
    "language_info": {
      "codemirror_mode": {
        "name": "ipython",
        "version": 3
      },
      "file_extension": ".py",
      "mimetype": "text/x-python",
      "name": "python",
      "nbconvert_exporter": "python",
      "pygments_lexer": "ipython3",
      "version": "3.8.7"
    }
  },
  "nbformat": 4,
  "nbformat_minor": 0
}